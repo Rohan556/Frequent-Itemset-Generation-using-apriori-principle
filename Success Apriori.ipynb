{
 "cells": [
  {
   "cell_type": "code",
   "execution_count": 131,
   "metadata": {},
   "outputs": [],
   "source": [
    "import pandas as pd\n",
    "import numpy as np\n",
    "import itertools as it\n",
    "import math as ma"
   ]
  },
  {
   "cell_type": "code",
   "execution_count": 132,
   "metadata": {},
   "outputs": [],
   "source": [
    "def apriori_princ(dataset, threshold):\n",
    "    d1 = dict()\n",
    "    data = np.array(dataset)\n",
    "    l1 = list(data)\n",
    "    l2 = list(l1)\n",
    "    \n",
    "    for i in l1:\n",
    "        for j in i:\n",
    "            if(j not in d1):\n",
    "                d1[j] = 1\n",
    "                \n",
    "            else:\n",
    "                d1[j] += 1\n",
    "            \n",
    "    d1c = dict(d1)\n",
    "    for i in d1:\n",
    "            if(d1[i]<threshold):\n",
    "                del d1c[i]\n",
    "                \n",
    "    l2 = list(d1c)\n",
    "    pl = list(l2)\n",
    "    for i in pl:\n",
    "        if(type(i) is not str):\n",
    "            pl.remove(i)\n",
    "    if(not l2):\n",
    "        return\n",
    "    \n",
    "    k = 2\n",
    "    while(True):\n",
    "        l3 = list(l2)\n",
    "        lc = list(it.combinations(pl, k))\n",
    "        dc2 = dict()\n",
    "        for i in lc:\n",
    "            err = list(i)\n",
    "            for j in l1:\n",
    "                if(all(elem in j  for elem in err)):\n",
    "                    if(tuple(err) not in dc2):\n",
    "                        dc2[tuple(err)] = 1\n",
    "                \n",
    "                    else:\n",
    "                        dc2[tuple(err)] += 1\n",
    "                        \n",
    "        dc22 = dict(dc2)\n",
    "        for i in dc2:\n",
    "            if(dc2[i]<threshold):\n",
    "                del dc22[i] \n",
    "        \n",
    "        l2 = list(dc22)\n",
    "        k += 1\n",
    "        if(not l2):\n",
    "            return l3"
   ]
  },
  {
   "cell_type": "code",
   "execution_count": 133,
   "metadata": {},
   "outputs": [],
   "source": [
    "def assoc_rules(fl):\n",
    "    arl = list()\n",
    "    im = ['->']\n",
    "    for i in fl:\n",
    "        n = len(i)\n",
    "        s = list(i)\n",
    "        lf = list(it.combinations(s, n-1))\n",
    "        for j in lf:\n",
    "            re = [x for x in s if x not in list(j)]\n",
    "            arl.append(list(j)+im+re)\n",
    "    return arl"
   ]
  },
  {
   "cell_type": "code",
   "execution_count": 137,
   "metadata": {},
   "outputs": [
    {
     "name": "stdout",
     "output_type": "stream",
     "text": [
      "Frequent itemsets\n",
      "[('Bread', 'Milk', 'Diaper'), ('Bread', 'Diaper', 'Beer'), ('Milk', 'Diaper', 'Beer'), ('Milk', 'Diaper', 'Coke')]\n",
      "\n",
      "Bread Milk -> Diaper \n",
      "Bread Diaper -> Milk \n",
      "Milk Diaper -> Bread \n",
      "Bread Diaper -> Beer \n",
      "Bread Beer -> Diaper \n",
      "Diaper Beer -> Bread \n",
      "Milk Diaper -> Beer \n",
      "Milk Beer -> Diaper \n",
      "Diaper Beer -> Milk \n",
      "Milk Diaper -> Coke \n",
      "Milk Coke -> Diaper \n",
      "Diaper Coke -> Milk \n"
     ]
    }
   ],
   "source": [
    "dataset = pd.read_csv('bm.csv')\n",
    "threshold = 2 #Minimum support count\n",
    "fl = apriori_princ(dataset, threshold)\n",
    "print('Frequent itemsets')\n",
    "print(fl)\n",
    "print()\n",
    "confidance = 0.5 #Minimum Confidance\n",
    "al = assoc_rules(fl)\n",
    "for i in al:\n",
    "    for j in i:\n",
    "        print(j,end=' ')\n",
    "    print()"
   ]
  },
  {
   "cell_type": "code",
   "execution_count": 135,
   "metadata": {},
   "outputs": [
    {
     "name": "stdout",
     "output_type": "stream",
     "text": [
      "[['Bread', 'Milk', '->', 'Diaper'], ['Bread', 'Diaper', '->', 'Milk'], ['Milk', 'Diaper', '->', 'Bread'], ['Bread', 'Diaper', '->', 'Beer'], ['Bread', 'Beer', '->', 'Diaper'], ['Diaper', 'Beer', '->', 'Bread'], ['Milk', 'Diaper', '->', 'Beer'], ['Milk', 'Beer', '->', 'Diaper'], ['Diaper', 'Beer', '->', 'Milk'], ['Milk', 'Diaper', '->', 'Coke'], ['Milk', 'Coke', '->', 'Diaper'], ['Diaper', 'Coke', '->', 'Milk']]\n"
     ]
    }
   ],
   "source": [
    "print(al)"
   ]
  },
  {
   "cell_type": "code",
   "execution_count": 136,
   "metadata": {},
   "outputs": [
    {
     "name": "stdout",
     "output_type": "stream",
     "text": [
      "['Bread', 'Milk', '->', 'Diaper']\n",
      "1.0\n",
      "['Bread', 'Diaper', '->', 'Milk']\n",
      "0.7894736842105263\n",
      "['Milk', 'Diaper', '->', 'Bread']\n",
      "0.3684210526315789\n",
      "['Bread', 'Beer', '->', 'Diaper']\n",
      "1.0\n",
      "['Diaper', 'Beer', '->', 'Bread']\n",
      "0.5172413793103449\n",
      "['Milk', 'Diaper', '->', 'Beer']\n",
      "0.35\n",
      "['Diaper', 'Beer', '->', 'Milk']\n",
      "0.5\n",
      "['Milk', 'Diaper', '->', 'Coke']\n",
      "0.3333333333333333\n",
      "['Diaper', 'Coke', '->', 'Milk']\n",
      "1.0\n"
     ]
    }
   ],
   "source": [
    "ils = []\n",
    "ilb = []\n",
    "data = np.array(dataset)\n",
    "for i in al:\n",
    "    n = len(i)\n",
    "    ils = i[0:n-2]\n",
    "    ilb = i[0:n-2]+i[n-1:n]\n",
    "    for j in data:\n",
    "        if(all(elem in j  for elem in ils)):\n",
    "            if(tuple(ils) not in dar):\n",
    "                dar[tuple(ils)] = 1\n",
    "                    \n",
    "            else:\n",
    "                dar[tuple(ils)] += 1\n",
    "                \n",
    "        if(all(elem in j  for elem in ils)):\n",
    "            if(tuple(ilb) not in dar):\n",
    "                dar[tuple(ilb)] = 1\n",
    "                    \n",
    "            else:\n",
    "                dar[tuple(ilb)] += 1 \n",
    "        \n",
    "    cr = dar[tuple(ilb)]/dar[tuple(ils)]\n",
    "    print(i)\n",
    "    print(cr)\n",
    "    if(cr<confidance):\n",
    "        al.remove(i)"
   ]
  },
  {
   "cell_type": "code",
   "execution_count": 130,
   "metadata": {},
   "outputs": [
    {
     "name": "stdout",
     "output_type": "stream",
     "text": [
      "[['Bread', 'Milk', '->', 'Diaper'], ['Bread', 'Diaper', '->', 'Milk'], ['Bread', 'Diaper', '->', 'Beer'], ['Bread', 'Beer', '->', 'Diaper'], ['Diaper', 'Beer', '->', 'Bread'], ['Milk', 'Beer', '->', 'Diaper'], ['Diaper', 'Beer', '->', 'Milk'], ['Milk', 'Coke', '->', 'Diaper'], ['Diaper', 'Coke', '->', 'Milk']]\n"
     ]
    }
   ],
   "source": [
    "print(al)"
   ]
  },
  {
   "cell_type": "code",
   "execution_count": null,
   "metadata": {},
   "outputs": [],
   "source": []
  }
 ],
 "metadata": {
  "kernelspec": {
   "display_name": "Python 3",
   "language": "python",
   "name": "python3"
  },
  "language_info": {
   "codemirror_mode": {
    "name": "ipython",
    "version": 3
   },
   "file_extension": ".py",
   "mimetype": "text/x-python",
   "name": "python",
   "nbconvert_exporter": "python",
   "pygments_lexer": "ipython3",
   "version": "3.7.1"
  }
 },
 "nbformat": 4,
 "nbformat_minor": 2
}
